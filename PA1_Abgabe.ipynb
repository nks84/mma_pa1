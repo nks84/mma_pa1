{
 "cells": [
  {
   "cell_type": "markdown",
   "source": [
    "# Programming Assignment 1\n",
    "## Genre Classification using Locality Sensitive Hashing (LSH)\n"
   ],
   "metadata": {
    "collapsed": false
   },
   "id": "f969a0b560d30e6e"
  },
  {
   "cell_type": "code",
   "outputs": [],
   "source": [
    "#Imports\n",
    "\n",
    "import pandas as pd\n",
    "import numpy as np"
   ],
   "metadata": {
    "collapsed": false,
    "ExecuteTime": {
     "end_time": "2024-04-03T11:08:47.280590Z",
     "start_time": "2024-04-03T11:08:46.312503Z"
    }
   },
   "id": "188d6f0bdc488332",
   "execution_count": 4
  },
  {
   "cell_type": "markdown",
   "source": [
    "### Data Loading and Preprocessing "
   ],
   "metadata": {
    "collapsed": false
   },
   "id": "27d26fafdb1a7f08"
  },
  {
   "cell_type": "code",
   "outputs": [],
   "source": [
    "# Load data\n",
    "df_tracks = pd.read_csv('tracks.csv', index_col=0, header=[0, 1])\n",
    "df_tracks = df_tracks[df_tracks['set']['subset'] == 'medium']\n",
    "df_features = pd.read_csv('features.csv', index_col=0, header=[0, 1, 2])\n",
    "\n",
    "# Filter by genres\n",
    "df_tracks = df_tracks[df_tracks['track']['genre_top'].isin(['Hip-Hop', 'Pop', 'Folk', 'Rock', 'Experimental', 'International', 'Electronic', 'Instrumental'])]\n",
    "\n",
    "# Split df_tracks into training, testing, and validation sets\n",
    "df_tracks_train = df_tracks[df_tracks.iloc[:, 30] == 'training']\n",
    "df_tracks_test = df_tracks[df_tracks.iloc[:, 30] == 'test']\n",
    "df_tracks_validation = df_tracks[df_tracks.iloc[:, 30] == 'validation']\n",
    "\n",
    "# Match features with tracks for training, testing, and validation\n",
    "df_features_train = df_features[df_features.index.isin(df_tracks_train.index)]\n",
    "df_features_test = df_features[df_features.index.isin(df_tracks_test.index)]\n",
    "df_features_validation = df_features[df_features.index.isin(df_tracks_validation.index)]\n",
    "\n",
    "# Extract feature values\n",
    "X_train = df_features_train.values\n",
    "X_test = df_features_test.values\n",
    "X_validation = df_features_validation.values\n",
    "\n",
    "# Extract genre labels\n",
    "y_train = df_tracks_train['track']['genre_top']\n",
    "y_test = df_tracks_test['track']['genre_top']\n",
    "y_validation = df_tracks_validation['track']['genre_top']"
   ],
   "metadata": {
    "collapsed": false,
    "ExecuteTime": {
     "end_time": "2024-04-03T11:13:13.697801Z",
     "start_time": "2024-04-03T11:13:01.577734Z"
    }
   },
   "id": "7071a521eb16897a",
   "execution_count": 10
  },
  {
   "cell_type": "code",
   "outputs": [
    {
     "name": "stdout",
     "output_type": "stream",
     "text": [
      "(11912, 518)\n"
     ]
    }
   ],
   "source": [
    "print(X_train.shape)"
   ],
   "metadata": {
    "collapsed": false,
    "ExecuteTime": {
     "end_time": "2024-04-03T12:37:17.252854Z",
     "start_time": "2024-04-03T12:37:17.242283Z"
    }
   },
   "id": "1af47e0a67272147",
   "execution_count": 46
  },
  {
   "cell_type": "markdown",
   "source": [
    "### Random Projection Matrix"
   ],
   "metadata": {
    "collapsed": false
   },
   "id": "1630ebed9cf7cb33"
  },
  {
   "cell_type": "code",
   "outputs": [],
   "source": [
    "# r_i = rowsize, r_j) = columsize\n",
    "def generate_random_matrix(r_i, r_j):\n",
    "    rij = np.random.choice([-1, 0, 1], size=(r_i, r_j), p=[1/6, 2/3, 1/6])\n",
    "    return np.sqrt(3) * rij"
   ],
   "metadata": {
    "collapsed": false,
    "ExecuteTime": {
     "end_time": "2024-04-03T11:08:48.850893Z",
     "start_time": "2024-04-03T11:08:48.846039Z"
    }
   },
   "id": "5da1edd32a365c5f",
   "execution_count": 5
  },
  {
   "cell_type": "markdown",
   "source": [
    "### Hashtable generator function\n",
    "\n",
    "We use the transpose of the Random Projection Matrix to reduce the dimensionality  and determine the orientation of each track's data relative to the hyperplanes by using the dot Product of the feature matrix and the transposed Random Projection Matrix. \n",
    "Then we use the binary representations of the orientations as a bucket and put in the tracks accordingly. \n",
    "$ \\begin{cases} \n",
    "0 & \\text{ if } x < 0 \\\\\n",
    "1 & \\text{ else}\n",
    "\\end{cases}\n",
    "$ \n",
    "We can do this because of $\\mathbf{a} \\cdot \\mathbf{b} = \\|\\mathbf{a}\\| \\|\\mathbf{b}\\| \\cos(\\theta)$ positive means on one side and negative on the other.\n",
    "This whole process represents one hashtable."
   ],
   "metadata": {
    "collapsed": false
   },
   "id": "e7a78f1eab6b5828"
  },
  {
   "cell_type": "code",
   "outputs": [],
   "source": [
    "\"\"\"\n",
    "The binary representations are of length l.\n",
    "And the number of hashtables we creat is equal to n.\n",
    "\"\"\"\n",
    "def hashtable_generator(X, l=32, n=20):\n",
    "    hash_tables_and_matrices = []  # Will store tuples of (hash_table, random_matrix)\n",
    "    for _ in range(n):\n",
    "        buckets = {}\n",
    "        random_matrix = generate_random_matrix(l, X.shape[1])\n",
    "        X_dot = np.dot(X, random_matrix.T)\n",
    "        X_dot = X_dot > 0\n",
    "        X_dot = X_dot.astype(int)\n",
    "\n",
    "        for i in range(len(X_dot)):\n",
    "            hash_str = ''.join(X_dot[i].astype(str))\n",
    "            if hash_str not in buckets:\n",
    "                buckets[hash_str] = []\n",
    "            buckets[hash_str].append(i)\n",
    "        \n",
    "        # Append both the hash table (buckets) and its corresponding random matrix\n",
    "        hash_tables_and_matrices.append((buckets, random_matrix))\n",
    "    \n",
    "    return hash_tables_and_matrices\n"
   ],
   "metadata": {
    "collapsed": false,
    "ExecuteTime": {
     "end_time": "2024-04-03T13:02:43.081762Z",
     "start_time": "2024-04-03T13:02:43.072530Z"
    }
   },
   "id": "a787572460aa4b47",
   "execution_count": 68
  },
  {
   "cell_type": "code",
   "outputs": [],
   "source": [
    "hash_tables_and_matrices = hashtable_generator(X_train)"
   ],
   "metadata": {
    "collapsed": false,
    "ExecuteTime": {
     "end_time": "2024-04-03T13:02:51.089435Z",
     "start_time": "2024-04-03T13:02:43.648032Z"
    }
   },
   "id": "7d1a716c342584ec",
   "execution_count": 69
  },
  {
   "cell_type": "code",
   "outputs": [],
   "source": [
    "def find_matching_songs(song_input, hash_tables_and_matrices, l=32):\n",
    "    matching_songs_indices = set()\n",
    "\n",
    "    for buckets, random_matrix in hash_tables_and_matrices:\n",
    "        song_projected = np.dot(song_input, random_matrix.T) > 0\n",
    "        song_hash = ''.join(song_projected.astype(int).astype(str))\n",
    "\n",
    "        if song_hash in buckets:\n",
    "            matching_songs_indices.update(buckets[song_hash])\n",
    "\n",
    "    return list(matching_songs_indices)"
   ],
   "metadata": {
    "collapsed": false,
    "ExecuteTime": {
     "end_time": "2024-04-03T13:02:51.096764Z",
     "start_time": "2024-04-03T13:02:51.091584Z"
    }
   },
   "id": "29345eb53e985117",
   "execution_count": 70
  },
  {
   "cell_type": "code",
   "outputs": [],
   "source": [
    "matches =  find_matching_songs(X_test[1],hash_tables_and_matrices)"
   ],
   "metadata": {
    "collapsed": false,
    "ExecuteTime": {
     "end_time": "2024-04-03T13:02:51.120190Z",
     "start_time": "2024-04-03T13:02:51.097772Z"
    }
   },
   "id": "8a54451159f3903a",
   "execution_count": 71
  },
  {
   "cell_type": "code",
   "outputs": [],
   "source": [
    "def compute_distances(X, song_input, matching_songs, metric=\"euclid\", cut=10):\n",
    "    filtered_songs = []\n",
    "    if metric == \"euclid\":\n",
    "        for element in matching_songs:\n",
    "            distance = np.linalg.norm(X[element] - song_input)\n",
    "            filtered_songs.append((element, distance))\n",
    "    elif metric == \"cosine\":\n",
    "        for element in matching_songs:\n",
    "            # Calculate cosine similarity\n",
    "            dot_product = np.dot(X[element], song_input)\n",
    "            norm_song = np.linalg.norm(X[element])\n",
    "            norm_input = np.linalg.norm(song_input)\n",
    "            similarity = dot_product / (norm_song * norm_input)\n",
    "            \n",
    "            # Convert similarity to distance (cosine distance)\n",
    "            distance = 1 - similarity\n",
    "            filtered_songs.append((element, distance))\n",
    "    else:\n",
    "        raise ValueError(\"Invalid metric specified. Use 'euclid' or 'cosine'.\")\n",
    "    \n",
    "    sorted_songs = sorted(filtered_songs, key=lambda x: x[1])\n",
    "    if cut is not None:\n",
    "        sorted_songs = sorted_songs[:cut]\n",
    "    \n",
    "    return sorted_songs"
   ],
   "metadata": {
    "collapsed": false,
    "ExecuteTime": {
     "end_time": "2024-04-03T13:03:18.135773Z",
     "start_time": "2024-04-03T13:03:18.128079Z"
    }
   },
   "id": "28bf0c05ba9bd8fd",
   "execution_count": 74
  },
  {
   "cell_type": "code",
   "outputs": [
    {
     "data": {
      "text/plain": "[(10209, 0.0005600534859354633),\n (4622, 0.0006203843290413236),\n (10446, 0.0006389835819047285),\n (3310, 0.0006580797243186387),\n (10782, 0.0007022478358682527),\n (6525, 0.0007095056876785799),\n (2661, 0.0007994446981818282),\n (2346, 0.0008073112474676902),\n (6287, 0.0008073265005050789),\n (1084, 0.0008350759096842353)]"
     },
     "execution_count": 75,
     "metadata": {},
     "output_type": "execute_result"
    }
   ],
   "source": [
    "compute_distances(X_train, X_test[1], matches, \"cosine\")"
   ],
   "metadata": {
    "collapsed": false,
    "ExecuteTime": {
     "end_time": "2024-04-03T13:03:18.664909Z",
     "start_time": "2024-04-03T13:03:18.465206Z"
    }
   },
   "id": "36506f7259be6b1a",
   "execution_count": 75
  },
  {
   "cell_type": "code",
   "outputs": [],
   "source": [],
   "metadata": {
    "collapsed": false
   },
   "id": "b7b6efe9d0536591"
  }
 ],
 "metadata": {
  "kernelspec": {
   "display_name": "Python 3",
   "language": "python",
   "name": "python3"
  },
  "language_info": {
   "codemirror_mode": {
    "name": "ipython",
    "version": 2
   },
   "file_extension": ".py",
   "mimetype": "text/x-python",
   "name": "python",
   "nbconvert_exporter": "python",
   "pygments_lexer": "ipython2",
   "version": "2.7.6"
  }
 },
 "nbformat": 4,
 "nbformat_minor": 5
}
