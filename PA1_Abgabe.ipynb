{
 "cells": [
  {
   "cell_type": "markdown",
   "source": [
    "# Programming Assignment 1\n",
    "## Genre Classification using Locality Sensitive Hashing (LSH)\n"
   ],
   "metadata": {
    "collapsed": false
   },
   "id": "f969a0b560d30e6e"
  },
  {
   "cell_type": "code",
   "outputs": [],
   "source": [
    "#Imports\n",
    "\n",
    "import pandas as pd\n",
    "import numpy as np"
   ],
   "metadata": {
    "collapsed": false,
    "ExecuteTime": {
     "end_time": "2024-04-03T11:08:47.280590Z",
     "start_time": "2024-04-03T11:08:46.312503Z"
    }
   },
   "id": "188d6f0bdc488332",
   "execution_count": 4
  },
  {
   "cell_type": "markdown",
   "source": [
    "### Data Loading and Preprocessing "
   ],
   "metadata": {
    "collapsed": false
   },
   "id": "27d26fafdb1a7f08"
  },
  {
   "cell_type": "code",
   "outputs": [],
   "source": [
    "# Load data\n",
    "df_tracks = pd.read_csv('tracks.csv', index_col=0, header=[0, 1])\n",
    "df_tracks = df_tracks[df_tracks['set']['subset'] == 'medium']\n",
    "df_features = pd.read_csv('features.csv', index_col=0, header=[0, 1, 2])\n",
    "\n",
    "# Filter by genres\n",
    "df_tracks = df_tracks[df_tracks['track']['genre_top'].isin(['Hip-Hop', 'Pop', 'Folk', 'Rock', 'Experimental', 'International', 'Electronic', 'Instrumental'])]\n",
    "\n",
    "# Split df_tracks into training, testing, and validation sets\n",
    "df_tracks_train = df_tracks[df_tracks.iloc[:, 30] == 'training']\n",
    "df_tracks_test = df_tracks[df_tracks.iloc[:, 30] == 'test']\n",
    "df_tracks_validation = df_tracks[df_tracks.iloc[:, 30] == 'validation']\n",
    "\n",
    "# Match features with tracks for training, testing, and validation\n",
    "df_features_train = df_features[df_features.index.isin(df_tracks_train.index)]\n",
    "df_features_test = df_features[df_features.index.isin(df_tracks_test.index)]\n",
    "df_features_validation = df_features[df_features.index.isin(df_tracks_validation.index)]\n",
    "\n",
    "# Extract feature values\n",
    "X_train = df_features_train.values\n",
    "X_test = df_features_test.values\n",
    "X_validation = df_features_validation.values\n",
    "\n",
    "# Extract genre labels\n",
    "y_train = df_tracks_train['track']['genre_top']\n",
    "y_test = df_tracks_test['track']['genre_top']\n",
    "y_validation = df_tracks_validation['track']['genre_top']"
   ],
   "metadata": {
    "collapsed": false,
    "ExecuteTime": {
     "end_time": "2024-04-03T11:13:13.697801Z",
     "start_time": "2024-04-03T11:13:01.577734Z"
    }
   },
   "id": "7071a521eb16897a",
   "execution_count": 10
  },
  {
   "cell_type": "markdown",
   "source": [
    "### Random Projection Matrix"
   ],
   "metadata": {
    "collapsed": false
   },
   "id": "1630ebed9cf7cb33"
  },
  {
   "cell_type": "code",
   "outputs": [],
   "source": [
    "# r_i = rowsize, r_j) = columsize\n",
    "def generate_random_matrix(r_i, r_j):\n",
    "    rij = np.random.choice([-1, 0, 1], size=(r_i, r_j), p=[1/6, 2/3, 1/6])\n",
    "    return np.sqrt(3) * rij"
   ],
   "metadata": {
    "collapsed": false,
    "ExecuteTime": {
     "end_time": "2024-04-03T11:08:48.850893Z",
     "start_time": "2024-04-03T11:08:48.846039Z"
    }
   },
   "id": "5da1edd32a365c5f",
   "execution_count": 5
  },
  {
   "cell_type": "markdown",
   "source": [
    "### Hashtable generator function\n",
    "\n",
    "We use the transpose of the Random Projection Matrix to reduce the dimensionality  and determine the orientation of each track's data relative to the hyperplanes by using the dot Product of the feature matrix and the transposed Random Projection Matrix. \n",
    "Then we use the binary representations of the orientations as a bucket and put in the tracks accordingly. \n",
    "$ \\begin{cases} \n",
    "0 & \\text{ if } x < 0 \\\\\n",
    "1 & \\text{ else}\n",
    "\\end{cases}\n",
    "$ \n",
    "We can do this because of $\\mathbf{a} \\cdot \\mathbf{b} = \\|\\mathbf{a}\\| \\|\\mathbf{b}\\| \\cos(\\theta)$ positive means on one side and negative on the other.\n",
    "This whole process represents one hashtable."
   ],
   "metadata": {
    "collapsed": false
   },
   "id": "e7a78f1eab6b5828"
  },
  {
   "cell_type": "code",
   "outputs": [],
   "source": [
    "\"\"\"\n",
    "The binary representations are of length l.\n",
    "And the number of hashtables we creat is equal to n.\n",
    "\"\"\"\n",
    "def hashtable_generator(X, l=8, n=10):\n",
    "    hash_tables = []  \n",
    "    for _ in range(n):  \n",
    "        buckets = {}\n",
    "        random_matrix = generate_random_matrix(l, X.shape[1]) \n",
    "        X_dot = np.dot(X, random_matrix.T)\n",
    "        X_dot = X_dot > 0\n",
    "        X_dot = X_dot.astype(int)\n",
    "\n",
    "        for i in range(len(X_dot)):\n",
    "            hash_str = ''.join(X_dot[i].astype(str))\n",
    "            if hash_str not in buckets:\n",
    "                buckets[hash_str] = []\n",
    "            buckets[hash_str].append(i)\n",
    "        \n",
    "        hash_tables.append(buckets)\n",
    "    \n",
    "    return hash_tables"
   ],
   "metadata": {
    "collapsed": false,
    "ExecuteTime": {
     "end_time": "2024-04-03T11:38:41.798499Z",
     "start_time": "2024-04-03T11:38:41.787262Z"
    }
   },
   "id": "a787572460aa4b47",
   "execution_count": 16
  },
  {
   "cell_type": "code",
   "outputs": [
    {
     "data": {
      "text/plain": "[{'01110001': [0, 1, 2, 3, 4]},\n {'01011111': [0], '01011101': [1, 3, 4], '01010111': [2]},\n {'00111111': [0, 2, 3, 4], '00111110': [1]},\n {'00000111': [0], '00000101': [1, 4], '00010110': [2], '00010100': [3]},\n {'11110110': [0, 1, 2, 3, 4]},\n {'01011010': [0, 1, 3, 4], '01010010': [2]},\n {'11011110': [0, 1, 2, 3, 4]},\n {'01110000': [0, 1, 2, 3, 4]},\n {'01111111': [0, 1, 2, 3], '11111111': [4]},\n {'11000101': [0, 1], '11000001': [2, 3, 4]}]"
     },
     "execution_count": 17,
     "metadata": {},
     "output_type": "execute_result"
    }
   ],
   "source": [],
   "metadata": {
    "collapsed": false,
    "ExecuteTime": {
     "end_time": "2024-04-03T11:38:42.389482Z",
     "start_time": "2024-04-03T11:38:42.346600Z"
    }
   },
   "id": "29345eb53e985117",
   "execution_count": 17
  },
  {
   "cell_type": "code",
   "outputs": [],
   "source": [
    "    for key, value in self.buckets.items():\n",
    "        self.genre_counts[key] = {}\n",
    "        for i in range(len(value)):\n",
    "            genre = self.y_train.iloc[value[i]]\n",
    "            if genre not in self.genre_counts[key]:\n",
    "                self.genre_counts[key][genre] = 1\n",
    "            else:\n",
    "                self.genre_counts[key][genre] += 1\n",
    "\n",
    "    for key, value in self.genre_counts.items():\n",
    "        self.genre_counts[key] = {k: v for k, v in sorted(value.items(), key=lambda item: item[1], reverse=True)}\n",
    "\n",
    "    for key, value in self.genre_counts.items():\n",
    "        self.bucket_genres[key] = list(value.keys())[0]"
   ],
   "metadata": {
    "collapsed": false
   },
   "id": "38309f556c27bdd5"
  }
 ],
 "metadata": {
  "kernelspec": {
   "display_name": "Python 3",
   "language": "python",
   "name": "python3"
  },
  "language_info": {
   "codemirror_mode": {
    "name": "ipython",
    "version": 2
   },
   "file_extension": ".py",
   "mimetype": "text/x-python",
   "name": "python",
   "nbconvert_exporter": "python",
   "pygments_lexer": "ipython2",
   "version": "2.7.6"
  }
 },
 "nbformat": 4,
 "nbformat_minor": 5
}
