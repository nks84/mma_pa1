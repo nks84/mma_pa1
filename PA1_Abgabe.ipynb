{
 "cells": [
  {
   "cell_type": "markdown",
   "id": "f969a0b560d30e6e",
   "metadata": {
    "collapsed": false
   },
   "source": [
    "# Programming Assignment 1\n",
    "## Genre Classification using Locality Sensitive Hashing (LSH)\n"
   ]
  },
  {
   "cell_type": "code",
   "execution_count": 24,
   "id": "188d6f0bdc488332",
   "metadata": {
    "ExecuteTime": {
     "end_time": "2024-04-03T11:08:47.280590Z",
     "start_time": "2024-04-03T11:08:46.312503Z"
    },
    "collapsed": false
   },
   "outputs": [],
   "source": [
    "#Imports\n",
    "\n",
    "import pandas as pd\n",
    "import numpy as np"
   ]
  },
  {
   "cell_type": "markdown",
   "id": "27d26fafdb1a7f08",
   "metadata": {
    "collapsed": false
   },
   "source": [
    "### Data Loading and Preprocessing "
   ]
  },
  {
   "cell_type": "code",
   "execution_count": 25,
   "id": "7071a521eb16897a",
   "metadata": {
    "ExecuteTime": {
     "end_time": "2024-04-03T11:13:13.697801Z",
     "start_time": "2024-04-03T11:13:01.577734Z"
    },
    "collapsed": false
   },
   "outputs": [],
   "source": [
    "\"\"\"\n",
    "TODO: Do the indcies of X_train get mixed up? I think this\n",
    "\"\"\"\n",
    "# Load data\n",
    "df_tracks = pd.read_csv('tracks.csv', index_col=0, header=[0, 1])\n",
    "df_tracks = df_tracks[df_tracks['set']['subset'] == 'medium']\n",
    "df_features = pd.read_csv('features.csv', index_col=0, header=[0, 1, 2])\n",
    "\n",
    "# Filter by genres\n",
    "df_tracks = df_tracks[df_tracks['track']['genre_top'].isin(['Hip-Hop', 'Pop', 'Folk', 'Rock', 'Experimental', 'International', 'Electronic', 'Instrumental'])]\n",
    "\n",
    "# Split df_tracks into training, testing, and validation sets\n",
    "df_tracks_train = df_tracks[df_tracks.iloc[:, 30] == 'training']\n",
    "df_tracks_test = df_tracks[df_tracks.iloc[:, 30] == 'test']\n",
    "df_tracks_validation = df_tracks[df_tracks.iloc[:, 30] == 'validation']\n",
    "\n",
    "# Match features with tracks for training, testing, and validation\n",
    "df_features_train = df_features[df_features.index.isin(df_tracks_train.index)]\n",
    "df_features_test = df_features[df_features.index.isin(df_tracks_test.index)]\n",
    "df_features_validation = df_features[df_features.index.isin(df_tracks_validation.index)]\n",
    "\n",
    "# Extract feature values\n",
    "X_train = df_features_train.values\n",
    "X_test = df_features_test.values\n",
    "X_validation = df_features_validation.values\n",
    "\n",
    "# Extract genre labels\n",
    "y_train = df_tracks_train['track']['genre_top']\n",
    "y_test = df_tracks_test['track']['genre_top']\n",
    "y_validation = df_tracks_validation['track']['genre_top']"
   ]
  },
  {
   "cell_type": "code",
   "execution_count": 26,
   "id": "1af47e0a67272147",
   "metadata": {
    "ExecuteTime": {
     "end_time": "2024-04-03T13:57:48.449049Z",
     "start_time": "2024-04-03T13:57:48.394839Z"
    },
    "collapsed": false
   },
   "outputs": [
    {
     "name": "stdout",
     "output_type": "stream",
     "text": [
      "track_id\n",
      "3              Hip-Hop\n",
      "134            Hip-Hop\n",
      "136               Rock\n",
      "139               Folk\n",
      "198               Folk\n",
      "              ...     \n",
      "155297    Instrumental\n",
      "155298            Folk\n",
      "155306            Folk\n",
      "155307    Experimental\n",
      "155314            Rock\n",
      "Name: genre_top, Length: 11912, dtype: object\n",
      "[[ 1.88896334e+00  7.60539293e-01  3.45296562e-01 ...  0.00000000e+00\n",
      "   1.71672380e+00  6.93301633e-02]\n",
      " [ 9.18444753e-01  6.74147248e-01  5.77818275e-01 ...  0.00000000e+00\n",
      "   1.80610597e+00  5.46228550e-02]\n",
      " [ 9.15000617e-01 -6.43476248e-01 -4.60507214e-01 ...  3.41796875e-03\n",
      "   8.05020452e-01  1.69045236e-02]\n",
      " ...\n",
      " [ 6.44815028e-01 -8.79404128e-01 -1.14923191e+00 ...  4.88281250e-03\n",
      "   3.17907929e+00  2.20229235e-02]\n",
      " [-4.46937442e-01  1.23500383e+00 -2.50854611e-01 ...  1.95312500e-03\n",
      "   1.99608481e+00  4.30976301e-02]\n",
      " [-1.21936493e-01 -3.48523021e-01 -5.55810153e-01 ...  6.34765625e-03\n",
      "   1.98907959e+00  1.92883536e-02]]\n"
     ]
    }
   ],
   "source": [
    "print(y_train)\n",
    "print(X_train)"
   ]
  },
  {
   "cell_type": "markdown",
   "id": "1630ebed9cf7cb33",
   "metadata": {
    "collapsed": false
   },
   "source": [
    "### Random Projection Matrix"
   ]
  },
  {
   "cell_type": "code",
   "execution_count": 34,
   "id": "5da1edd32a365c5f",
   "metadata": {
    "ExecuteTime": {
     "end_time": "2024-04-03T11:08:48.850893Z",
     "start_time": "2024-04-03T11:08:48.846039Z"
    },
    "collapsed": false
   },
   "outputs": [],
   "source": [
    "# r_i = rowsize, r_j) = columsize\n",
    "def generate_random_matrix(r_i, r_j):\n",
    "    rij = np.random.choice([-1, 0, 1], size=(r_i, r_j), p=[1/6, 2/3, 1/6])\n",
    "    return np.sqrt(3) * rij"
   ]
  },
  {
   "cell_type": "markdown",
   "id": "e7a78f1eab6b5828",
   "metadata": {
    "collapsed": false
   },
   "source": [
    "### Hashtable generator function\n",
    "\n",
    "We use the transpose of the Random Projection Matrix to reduce the dimensionality  and determine the orientation of each track's data relative to the hyperplanes by using the dot Product of the feature matrix and the transposed Random Projection Matrix. \n",
    "Then we use the binary representations of the orientations as a bucket and put in the tracks accordingly. \n",
    "$ \\begin{cases} \n",
    "0 & \\text{ if } x < 0 \\\\\n",
    "1 & \\text{ else}\n",
    "\\end{cases}\n",
    "$ \n",
    "We can do this because of $\\mathbf{a} \\cdot \\mathbf{b} = \\|\\mathbf{a}\\| \\|\\mathbf{b}\\| \\cos(\\theta)$ positive means on one side and negative on the other.\n",
    "This whole process represents one hashtable."
   ]
  },
  {
   "cell_type": "code",
   "execution_count": 28,
   "id": "a787572460aa4b47",
   "metadata": {
    "ExecuteTime": {
     "end_time": "2024-04-03T13:02:43.081762Z",
     "start_time": "2024-04-03T13:02:43.072530Z"
    },
    "collapsed": false
   },
   "outputs": [],
   "source": [
    "\"\"\"\n",
    "The binary representations are of length l.\n",
    "And the number of hashtables we creat is equal to n.\n",
    "\"\"\"\n",
    "def hashtable_generator(X, l=32, n=20):\n",
    "    hash_tables_and_matrices = []  \n",
    "    for _ in range(n):\n",
    "        buckets = {}\n",
    "        random_matrix = generate_random_matrix(l, X.shape[1])\n",
    "        X_dot = np.dot(X, random_matrix.T)\n",
    "        X_dot = X_dot > 0\n",
    "        X_dot = X_dot.astype(int)\n",
    "\n",
    "        for i in range(len(X_dot)):\n",
    "            hash_str = ''.join(X_dot[i].astype(str))\n",
    "            if hash_str not in buckets:\n",
    "                buckets[hash_str] = []\n",
    "            buckets[hash_str].append(i)\n",
    "        \n",
    "        hash_tables_and_matrices.append((buckets, random_matrix))\n",
    "    \n",
    "    return hash_tables_and_matrices\n"
   ]
  },
  {
   "cell_type": "markdown",
   "id": "b077d89ac069c55c",
   "metadata": {
    "collapsed": false
   },
   "source": [
    "### Similar Songs Finder\n",
    "In this step we use the computed hash_tables and the according matrices to find all similar songs of the input song. \n",
    "> A music track is defined as similar if it is in the same bucket as $t_i$ in one of the $n$ hash tables.\n"
   ]
  },
  {
   "cell_type": "code",
   "execution_count": 29,
   "id": "29345eb53e985117",
   "metadata": {
    "ExecuteTime": {
     "end_time": "2024-04-03T13:02:51.096764Z",
     "start_time": "2024-04-03T13:02:51.091584Z"
    },
    "collapsed": false
   },
   "outputs": [],
   "source": [
    "def find_similar_songs(song_input, hash_tables_and_matrices):\n",
    "    similar_songs_indices = set()\n",
    "\n",
    "    for buckets, random_matrix in hash_tables_and_matrices:\n",
    "        song_projected = np.dot(song_input, random_matrix.T) > 0\n",
    "        song_hash = ''.join(song_projected.astype(int).astype(str))\n",
    "\n",
    "        if song_hash in buckets:\n",
    "            similar_songs_indices.update(buckets[song_hash])\n",
    "\n",
    "    return list(similar_songs_indices)"
   ]
  },
  {
   "cell_type": "markdown",
   "id": "8f6b294b",
   "metadata": {},
   "source": [
    "same but for multiple times"
   ]
  },
  {
   "cell_type": "code",
   "execution_count": 30,
   "id": "a6b617c4",
   "metadata": {},
   "outputs": [],
   "source": [
    "def find_matching_song_multiple( times, song_input):\n",
    "    found_categories = []\n",
    "    for _ in range(times):\n",
    "        print(\"doing it times \", _)\n",
    "        local_categories = find_similar_songs(song_input,hashtable_generator(X_train))\n",
    "        if len(local_categories) == 0:\n",
    "            continue\n",
    "        genres = []\n",
    "        for element in local_categories:\n",
    "            genres.append(y_train.iloc[element[0]])\n",
    "        found_categories.append(max(set(genres), key=genres.count))\n",
    "        #TODO check if reset necessary\n",
    "        #self.reset()\n",
    "    return max(set(found_categories), key=found_categories.count)"
   ]
  },
  {
   "cell_type": "markdown",
   "id": "7fa69ae79ff5f23d",
   "metadata": {
    "collapsed": false
   },
   "source": [
    "### Distance Computation of Similar Songs\n",
    "This function computes the distance of all similar Songs to the input Song."
   ]
  },
  {
   "cell_type": "code",
   "execution_count": 31,
   "id": "28bf0c05ba9bd8fd",
   "metadata": {
    "ExecuteTime": {
     "end_time": "2024-04-03T13:34:53.531052Z",
     "start_time": "2024-04-03T13:34:53.521387Z"
    },
    "collapsed": false
   },
   "outputs": [],
   "source": [
    "def compute_distances(X, song_input, similar_songs, metric=\"euclid\", cut=10):\n",
    "    filtered_songs = []\n",
    "    if metric == \"euclid\":\n",
    "        for element in similar_songs:\n",
    "            distance = np.linalg.norm(X[element] - song_input)\n",
    "            filtered_songs.append((element, distance))\n",
    "    elif metric == \"cosine\":\n",
    "        for element in similar_songs:\n",
    "            # cosine similarity\n",
    "            dot_product = np.dot(X[element], song_input)\n",
    "            norm_song = np.linalg.norm(X[element])\n",
    "            norm_input = np.linalg.norm(song_input)\n",
    "            similarity = dot_product / (norm_song * norm_input)\n",
    "            \n",
    "            # From similarity to distance (cosine distance)\n",
    "            distance = 1 - similarity\n",
    "            filtered_songs.append((element, distance))\n",
    "    else:\n",
    "        raise ValueError(\"Invalid metric specified. Use 'euclid' or 'cosine'.\")\n",
    "    \n",
    "    sorted_songs = sorted(filtered_songs, key=lambda x: x[1])\n",
    "    if cut is not None:\n",
    "        sorted_songs = sorted_songs[:cut]\n",
    "    \n",
    "    return [index for index, _ in sorted_songs]"
   ]
  },
  {
   "cell_type": "markdown",
   "id": "b79bc0c9ab605fc9",
   "metadata": {
    "collapsed": false
   },
   "source": [
    "### Getting the Genre by Majority vote"
   ]
  },
  {
   "cell_type": "code",
   "execution_count": 32,
   "id": "b7b6efe9d0536591",
   "metadata": {
    "ExecuteTime": {
     "end_time": "2024-04-03T13:34:54.315348Z",
     "start_time": "2024-04-03T13:34:54.310358Z"
    },
    "collapsed": false
   },
   "outputs": [],
   "source": [
    "def determine_genre_by_majority_vote(song_indices, Y):\n",
    "    # Filter song_indices to ensure they are within the range of df_genres' index\n",
    "    valid_indices = [i for i in song_indices if i in Y.index]\n",
    "    \n",
    "    # Extract the genres for the given (valid) indices\n",
    "    genres = Y.loc[valid_indices].values\n",
    "    \n",
    "    # Count the occurrence of each genre\n",
    "    genre_counts = {}\n",
    "    for genre in genres:\n",
    "        genre_counts[genre] = genre_counts.get(genre, 0) + 1\n",
    "    \n",
    "    # Determine the genre with the majority vote\n",
    "    majority_genre = max(genre_counts, key=genre_counts.get)\n",
    "    \n",
    "    return majority_genre\n"
   ]
  },
  {
   "cell_type": "code",
   "execution_count": 33,
   "id": "9daeaf5ba2ef3f7a",
   "metadata": {
    "ExecuteTime": {
     "end_time": "2024-04-03T13:34:55.016930Z",
     "start_time": "2024-04-03T13:34:55.010677Z"
    },
    "collapsed": false
   },
   "outputs": [
    {
     "ename": "NameError",
     "evalue": "name 'matching_s' is not defined",
     "output_type": "error",
     "traceback": [
      "\u001b[1;31m---------------------------------------------------------------------------\u001b[0m",
      "\u001b[1;31mNameError\u001b[0m                                 Traceback (most recent call last)",
      "Cell \u001b[1;32mIn[33], line 1\u001b[0m\n\u001b[1;32m----> 1\u001b[0m determine_genre_by_majority_vote(\u001b[43mmatching_s\u001b[49m, y_train)\n",
      "\u001b[1;31mNameError\u001b[0m: name 'matching_s' is not defined"
     ]
    }
   ],
   "source": [
    "determine_genre_by_majority_vote(matching_s, y_train)"
   ]
  },
  {
   "cell_type": "code",
   "execution_count": 42,
   "id": "1d937c81",
   "metadata": {},
   "outputs": [],
   "source": [
    "def test_and_validation_accuracy_with_find_matching_songs_multiple_optimized(times):\n",
    "    correct = 0\n",
    "    two_d_array = [[0 for _ in range(times)] for _ in range(len(X_test))]\n",
    "    hash_tables_and_matrices = [hashtable_generator(X_train) for _ in range(times)]\n",
    "    \n",
    "    for _ in range(times):\n",
    "        print(\"iteration\", _)\n",
    "        for i in range(len(X_test)):\n",
    "            two_d_array[i][_] = determine_genre_by_majority_vote(X_test[i], hash_tables_and_matrices[_])\n",
    "        for i in range(len(X_validation)):\n",
    "            two_d_array[i][_] = determine_genre_by_majority_vote(X_validation[i], hash_tables_and_matrices[_])\n",
    "    \n",
    "    for i in range(len(X_test)):\n",
    "        print(\"iteration part2\")\n",
    "        genres = [two_d_array[i][_] for _ in range(times)]\n",
    "        if max(set(genres), key=genres.count) == y_test.iloc[i]:\n",
    "            correct += 1\n",
    "    for i in range(len(X_validation)):\n",
    "        genres = [two_d_array[i][_] for _ in range(times)]\n",
    "        if max(set(genres), key=genres.count) == y_validation.iloc[i]:\n",
    "            correct += 1\n",
    "    \n",
    "    accuracy = correct / (len(X_test)+len(X_validation))\n",
    "    #print(f\"Accuracy Test set advanced: {accuracy}\")\n",
    "    return accuracy\n",
    "\n",
    "\n"
   ]
  },
  {
   "cell_type": "code",
   "execution_count": 43,
   "id": "9611199a20838623",
   "metadata": {
    "collapsed": false
   },
   "outputs": [
    {
     "name": "stdout",
     "output_type": "stream",
     "text": [
      "iteration 0\n"
     ]
    },
    {
     "ename": "TypeError",
     "evalue": "argument of type 'builtin_function_or_method' is not iterable",
     "output_type": "error",
     "traceback": [
      "\u001b[1;31m---------------------------------------------------------------------------\u001b[0m",
      "\u001b[1;31mTypeError\u001b[0m                                 Traceback (most recent call last)",
      "Cell \u001b[1;32mIn[43], line 21\u001b[0m\n\u001b[0;32m     18\u001b[0m     \u001b[38;5;66;03m#print(f\"Accuracy Test set advanced: {accuracy}\")\u001b[39;00m\n\u001b[0;32m     19\u001b[0m     \u001b[38;5;28;01mreturn\u001b[39;00m accuracy\n\u001b[1;32m---> 21\u001b[0m \u001b[43mtest_accuracy_with_find_matching_songs_multiple_optimized\u001b[49m\u001b[43m(\u001b[49m\u001b[38;5;241;43m2\u001b[39;49m\u001b[43m)\u001b[49m\n",
      "Cell \u001b[1;32mIn[43], line 9\u001b[0m, in \u001b[0;36mtest_accuracy_with_find_matching_songs_multiple_optimized\u001b[1;34m(times)\u001b[0m\n\u001b[0;32m      7\u001b[0m     \u001b[38;5;28mprint\u001b[39m(\u001b[38;5;124m\"\u001b[39m\u001b[38;5;124miteration\u001b[39m\u001b[38;5;124m\"\u001b[39m, _)\n\u001b[0;32m      8\u001b[0m     \u001b[38;5;28;01mfor\u001b[39;00m i \u001b[38;5;129;01min\u001b[39;00m \u001b[38;5;28mrange\u001b[39m(\u001b[38;5;28mlen\u001b[39m(X_test)):\n\u001b[1;32m----> 9\u001b[0m         two_d_array[i][_] \u001b[38;5;241m=\u001b[39m \u001b[43mdetermine_genre_by_majority_vote\u001b[49m\u001b[43m(\u001b[49m\u001b[43mX_test\u001b[49m\u001b[43m[\u001b[49m\u001b[43mi\u001b[49m\u001b[43m]\u001b[49m\u001b[43m,\u001b[49m\u001b[43m \u001b[49m\u001b[43mhash_tables_and_matrices\u001b[49m\u001b[43m[\u001b[49m\u001b[43m_\u001b[49m\u001b[43m]\u001b[49m\u001b[43m)\u001b[49m\n\u001b[0;32m     11\u001b[0m \u001b[38;5;28;01mfor\u001b[39;00m i \u001b[38;5;129;01min\u001b[39;00m \u001b[38;5;28mrange\u001b[39m(\u001b[38;5;28mlen\u001b[39m(X_test)):\n\u001b[0;32m     12\u001b[0m     \u001b[38;5;28mprint\u001b[39m(\u001b[38;5;124m\"\u001b[39m\u001b[38;5;124miteration part2\u001b[39m\u001b[38;5;124m\"\u001b[39m)\n",
      "Cell \u001b[1;32mIn[32], line 3\u001b[0m, in \u001b[0;36mdetermine_genre_by_majority_vote\u001b[1;34m(song_indices, Y)\u001b[0m\n\u001b[0;32m      1\u001b[0m \u001b[38;5;28;01mdef\u001b[39;00m \u001b[38;5;21mdetermine_genre_by_majority_vote\u001b[39m(song_indices, Y):\n\u001b[0;32m      2\u001b[0m     \u001b[38;5;66;03m# Filter song_indices to ensure they are within the range of df_genres' index\u001b[39;00m\n\u001b[1;32m----> 3\u001b[0m     valid_indices \u001b[38;5;241m=\u001b[39m [i \u001b[38;5;28;01mfor\u001b[39;00m i \u001b[38;5;129;01min\u001b[39;00m song_indices \u001b[38;5;28;01mif\u001b[39;00m \u001b[43mi\u001b[49m\u001b[43m \u001b[49m\u001b[38;5;129;43;01min\u001b[39;49;00m\u001b[43m \u001b[49m\u001b[43mY\u001b[49m\u001b[38;5;241;43m.\u001b[39;49m\u001b[43mindex\u001b[49m]\n\u001b[0;32m      5\u001b[0m     \u001b[38;5;66;03m# Extract the genres for the given (valid) indices\u001b[39;00m\n\u001b[0;32m      6\u001b[0m     genres \u001b[38;5;241m=\u001b[39m Y\u001b[38;5;241m.\u001b[39mloc[valid_indices]\u001b[38;5;241m.\u001b[39mvalues\n",
      "\u001b[1;31mTypeError\u001b[0m: argument of type 'builtin_function_or_method' is not iterable"
     ]
    }
   ],
   "source": [
    "def test_accuracy_with_find_matching_songs_multiple_optimized(times):\n",
    "    correct = 0\n",
    "    two_d_array = [[0 for _ in range(times)] for _ in range(len(X_test))]\n",
    "    hash_tables_and_matrices = [hashtable_generator(X_train) for _ in range(times)]\n",
    "    \n",
    "    for _ in range(times):\n",
    "        print(\"iteration\", _)\n",
    "        for i in range(len(X_test)):\n",
    "            two_d_array[i][_] = determine_genre_by_majority_vote(X_test[i], hash_tables_and_matrices[_])\n",
    "    \n",
    "    for i in range(len(X_test)):\n",
    "        print(\"iteration part2\")\n",
    "        genres = [two_d_array[i][_] for _ in range(times)]\n",
    "        if max(set(genres), key=genres.count) == y_test.iloc[i]:\n",
    "            correct += 1\n",
    "    \n",
    "    accuracy = correct / len(X_test)\n",
    "    #print(f\"Accuracy Test set advanced: {accuracy}\")\n",
    "    return accuracy\n",
    "\n",
    "test_accuracy_with_find_matching_songs_multiple_optimized(2)\n"
   ]
  }
 ],
 "metadata": {
  "kernelspec": {
   "display_name": "Python 3",
   "language": "python",
   "name": "python3"
  },
  "language_info": {
   "codemirror_mode": {
    "name": "ipython",
    "version": 3
   },
   "file_extension": ".py",
   "mimetype": "text/x-python",
   "name": "python",
   "nbconvert_exporter": "python",
   "pygments_lexer": "ipython3",
   "version": "3.12.2"
  }
 },
 "nbformat": 4,
 "nbformat_minor": 5
}
