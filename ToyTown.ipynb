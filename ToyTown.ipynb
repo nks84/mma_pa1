{
 "cells": [
  {
   "cell_type": "code",
   "execution_count": 2,
   "id": "994a4f5d",
   "metadata": {},
   "outputs": [
    {
     "name": "stdout",
     "output_type": "stream",
     "text": [
      "Initialized LSH with 10-D space, 5 hyperplanes, 2 buckets.\n",
      "Hyperplanes:\n",
      " [[-0.83743347 -0.55633249 -0.00472366  0.98555516  2.2355919   0.63213923\n",
      "   0.41061279  0.68767773 -0.7422256   0.50369554]\n",
      " [-0.37300675 -0.1981152   1.37911377  0.30618014 -0.85705889 -0.96069224\n",
      "   0.32476332  0.6817586  -0.40051521 -0.47487427]\n",
      " [-1.35863289  1.70761537 -3.33028166 -0.56780651 -0.07723327  0.62986481\n",
      "   0.87754034  0.15146138  0.53954569 -0.04874371]\n",
      " [-0.16202119  1.03045185  0.72918501 -0.97383656 -0.60162195 -1.0464052\n",
      "  -1.17435603 -0.61808796 -0.42677007 -1.54070825]\n",
      " [-1.92628697 -0.52845042 -0.33329592 -0.10214683 -0.44621198 -0.61120566\n",
      "  -1.86812733 -1.49668058 -1.07236137  1.33889883]]\n",
      "\n",
      "Computing hash for point: [-1.09203085 -0.44518967  0.10231113  0.55394694  1.01166295  0.88513787\n",
      "  0.93224087  1.0591065  -0.64457112  1.92452295]\n",
      "Projections on hyperplanes: [ 7.08773929 -0.54209315  1.08448863 -6.72096432  1.19699018]\n",
      "Hyperplane 0: Projection 7.09, Bit: 1\n",
      "Hyperplane 1: Projection -0.54, Bit: 0\n",
      "Hyperplane 2: Projection 1.08, Bit: 1\n",
      "Hyperplane 3: Projection -6.72, Bit: 0\n",
      "Hyperplane 4: Projection 1.20, Bit: 1\n",
      "Computed hash value: 21\n",
      "Added Point 0 to bucket 1, Hash: 21\n",
      "\n",
      "Computing hash for point: [-0.59693083  0.0831754  -1.71753823 -0.08821503 -0.47805937 -1.13969181\n",
      "  0.06617449 -2.14989764  0.66810135 -1.0194172 ]\n",
      "Projections on hyperplanes: [-3.87502304 -1.9126012   6.1846926   3.0327303   3.61001236]\n",
      "Hyperplane 0: Projection -3.88, Bit: 0\n",
      "Hyperplane 1: Projection -1.91, Bit: 0\n",
      "Hyperplane 2: Projection 6.18, Bit: 1\n",
      "Hyperplane 3: Projection 3.03, Bit: 1\n",
      "Hyperplane 4: Projection 3.61, Bit: 1\n",
      "Computed hash value: 28\n",
      "Added Point 1 to bucket 0, Hash: 28\n",
      "\n",
      "Computing hash for point: [ 1.09486378  0.56669815  1.48508595 -1.42440235  0.99283796 -0.11776054\n",
      "  0.89675493 -1.2800547   1.97824454 -1.58150167]\n",
      "Projections on hyperplanes: [-3.27479598 -0.26923103 -3.07013707  3.73296762 -7.12729204]\n",
      "Hyperplane 0: Projection -3.27, Bit: 0\n",
      "Hyperplane 1: Projection -0.27, Bit: 0\n",
      "Hyperplane 2: Projection -3.07, Bit: 0\n",
      "Hyperplane 3: Projection 3.73, Bit: 1\n",
      "Hyperplane 4: Projection -7.13, Bit: 0\n",
      "Computed hash value: 8\n",
      "Added Point 2 to bucket 0, Hash: 8\n",
      "\n",
      "Querying...\n",
      "\n",
      "Computing hash for point: [-1.09203085 -0.44518967  0.10231113  0.55394694  1.01166295  0.88513787\n",
      "  0.93224087  1.0591065  -0.64457112  1.92452295]\n",
      "Projections on hyperplanes: [ 7.08773929 -0.54209315  1.08448863 -6.72096432  1.19699018]\n",
      "Hyperplane 0: Projection 7.09, Bit: 1\n",
      "Hyperplane 1: Projection -0.54, Bit: 0\n",
      "Hyperplane 2: Projection 1.08, Bit: 1\n",
      "Hyperplane 3: Projection -6.72, Bit: 0\n",
      "Hyperplane 4: Projection 1.20, Bit: 1\n",
      "Computed hash value: 21\n",
      "\n",
      "Query for point [-1.09203085 -0.44518967  0.10231113  0.55394694  1.01166295  0.88513787\n",
      "  0.93224087  1.0591065  -0.64457112  1.92452295] goes to bucket 1, Hash: 21\n",
      "Distances: [('Point 0', 0.0)]\n",
      "\n",
      "Nearest Neighbors: [('Point 0', 0.0)]\n"
     ]
    }
   ],
   "source": [
    "import numpy as np\n",
    "\n",
    "class VerboseRandomProjectionLSH:\n",
    "    def __init__(self, dimension, num_hyperplanes, num_buckets):\n",
    "        self.dimension = dimension\n",
    "        self.num_hyperplanes = num_hyperplanes\n",
    "        self.num_buckets = num_buckets\n",
    "        self.hyperplanes = np.random.randn(self.num_hyperplanes, self.dimension)\n",
    "        self.buckets = [[] for _ in range(self.num_buckets)]\n",
    "        \n",
    "        print(f\"Initialized LSH with {dimension}-D space, {num_hyperplanes} hyperplanes, {num_buckets} buckets.\")\n",
    "        print(\"Hyperplanes:\\n\", self.hyperplanes)\n",
    "        \n",
    "    def compute_hash(self, point):\n",
    "        projections = np.dot(self.hyperplanes, point)\n",
    "        hash_value = 0\n",
    "        print(f\"\\nComputing hash for point: {point}\")\n",
    "        print(f\"Projections on hyperplanes: {projections}\")\n",
    "        \n",
    "        for i, projection in enumerate(projections):\n",
    "            bit = 1 if projection >= 0 else 0\n",
    "            hash_value |= bit << i\n",
    "            print(f\"Hyperplane {i}: Projection {projection:.2f}, Bit: {bit}\")\n",
    "        \n",
    "        print(f\"Computed hash value: {hash_value}\")\n",
    "        return hash_value\n",
    "    \n",
    "    def add_point(self, point, label):\n",
    "        hash_value = self.compute_hash(point)\n",
    "        bucket_index = hash_value % self.num_buckets\n",
    "        self.buckets[bucket_index].append((label, point))\n",
    "        print(f\"Added {label} to bucket {bucket_index}, Hash: {hash_value}\")\n",
    "        \n",
    "    def query(self, point, k=1):\n",
    "        hash_value = self.compute_hash(point)\n",
    "        bucket_index = hash_value % self.num_buckets\n",
    "        bucket = self.buckets[bucket_index]\n",
    "        \n",
    "        print(f\"\\nQuery for point {point} goes to bucket {bucket_index}, Hash: {hash_value}\")\n",
    "        distances = [(label, np.linalg.norm(point - p)) for label, p in bucket]\n",
    "        distances.sort(key=lambda x: x[1])\n",
    "        print(\"Distances:\", distances)\n",
    "        \n",
    "        return distances[:k]\n",
    "\n",
    "# Use a 10-dimensional space for simplicity\n",
    "dimension = 10  \n",
    "num_hyperplanes = 5  \n",
    "num_buckets = 2  \n",
    "\n",
    "# Initialize the LSH system\n",
    "lsh = VerboseRandomProjectionLSH(dimension, num_hyperplanes, num_buckets)\n",
    "\n",
    "# Add a small number of points to the LSH\n",
    "points = [np.random.randn(dimension) for _ in range(3)]\n",
    "for i, point in enumerate(points):\n",
    "    lsh.add_point(point, f\"Point {i}\")\n",
    "\n",
    "# Choose a point to query\n",
    "query_point = points[0]  # Use the first point added as a query to ensure some result\n",
    "print(\"\\nQuerying...\")\n",
    "result = lsh.query(query_point, k=2)\n",
    "print(\"\\nNearest Neighbors:\", result)"
   ]
  },
  {
   "cell_type": "code",
   "execution_count": 5,
   "id": "1c5943ef",
   "metadata": {},
   "outputs": [],
   "source": [
    "array = np.array([[1, 2, 3], [4, 5, 6], [7, 8, 9]])"
   ]
  },
  {
   "cell_type": "code",
   "execution_count": 9,
   "id": "00834d66",
   "metadata": {},
   "outputs": [
    {
     "data": {
      "text/plain": [
       "2"
      ]
     },
     "execution_count": 9,
     "metadata": {},
     "output_type": "execute_result"
    }
   ],
   "source": [
    "array.ndim"
   ]
  },
  {
   "cell_type": "code",
   "execution_count": 10,
   "id": "1888a4b4",
   "metadata": {},
   "outputs": [
    {
     "name": "stdout",
     "output_type": "stream",
     "text": [
      "Number of rows: 3, Number of columns: 3\n"
     ]
    }
   ],
   "source": [
    "# Get the shape of the array\n",
    "shape = array.shape\n",
    "\n",
    "# The number of rows and columns\n",
    "rows, columns = shape\n",
    "\n",
    "print(f\"Number of rows: {rows}, Number of columns: {columns}\")"
   ]
  },
  {
   "cell_type": "code",
   "execution_count": null,
   "id": "6379ae4a",
   "metadata": {},
   "outputs": [],
   "source": []
  }
 ],
 "metadata": {
  "kernelspec": {
   "display_name": "Python 3 (ipykernel)",
   "language": "python",
   "name": "python3"
  },
  "language_info": {
   "codemirror_mode": {
    "name": "ipython",
    "version": 3
   },
   "file_extension": ".py",
   "mimetype": "text/x-python",
   "name": "python",
   "nbconvert_exporter": "python",
   "pygments_lexer": "ipython3",
   "version": "3.11.5"
  }
 },
 "nbformat": 4,
 "nbformat_minor": 5
}
