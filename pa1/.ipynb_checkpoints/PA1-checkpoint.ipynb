{
 "cells": [
  {
   "cell_type": "code",
   "execution_count": 6,
   "id": "baa87f7c",
   "metadata": {},
   "source": [
    "# Imports\n",
    "import pandas\n",
    "import numpy as np"
   ],
   "outputs": []
  },
  {
   "cell_type": "code",
   "execution_count": 7,
   "id": "77f5d351",
   "metadata": {},
   "source": [
    "# Helper for getting shapes of arrays\n",
    "def get_shape(array):\n",
    "    shape = array.shape\n",
    "    rows, columns = shape\n",
    "    print(f\"Number of rows: {rows}, Number of columns: {columns}\")\n",
    "    \n",
    "#For the random projection matrix R we use construction method introduced by Achlioptas\n",
    "def generate_random_matrix(m, n):\n",
    "    rij = np.random.choice([-1, 0, 1], size=(m, n), p=[1/6, 2/3, 1/6])\n",
    "    return np.sqrt(3) * rij\n",
    "\n"
   ],
   "outputs": []
  },
  {
   "cell_type": "code",
   "execution_count": 11,
   "id": "443833e0",
   "metadata": {},
   "source": [
    "# Getting the data\n",
    "df_tracks = pandas.read_csv('tracks.csv',index_col=0, header=[0, 1])\n",
    "df_tracks = df_tracks[df_tracks['set']['subset'] == 'medium']\n",
    "df_feautures = pandas.read_csv('features.csv',index_col=0, header=[0, 1, 2])\n"
   ],
   "outputs": []
  },
  {
   "cell_type": "code",
   "execution_count": 14,
   "id": "f196a48e",
   "metadata": {},
   "source": [
    "# Building train, test, validation sets\n",
    "# filter data only for these genres\n",
    "# Hip-Hop, Pop, Folk, Rock, Experimental,\n",
    "# International, Electronic, and Instrumental.\n",
    "# tut nix eigentlich\n",
    "df_tracks = df_tracks[df_tracks['track']['genre_top'].isin(['Hip-Hop', 'Pop', 'Folk', 'Rock', 'Experimental', 'International', 'Electronic', 'Instrumental'])]\n",
    "\n",
    "\n",
    "# split track dataframe into training and test data based on column with index 30\n",
    "df_tracks_train = df_tracks[df_tracks.iloc[:, 30] == 'training']\n",
    "df_tracks_test = df_tracks[df_tracks.iloc[:, 30] == 'test']\n",
    "df_tracks_validation = df_tracks[df_tracks.iloc[:, 30] == 'validation']\n",
    "\n",
    "#filter features data accordingly to the track data\n",
    "df_features_train = df_feautures[df_feautures.index.isin(df_tracks_train.index)]\n",
    "df_features_test = df_feautures[df_feautures.index.isin(df_tracks_test.index)]\n",
    "df_features_validation = df_feautures[df_feautures.index.isin(df_tracks_validation.index)]\n",
    "\n",
    "# get X\n",
    "X_train = df_features_train.values\n",
    "X_test = df_features_test.values\n",
    "X_validation = df_features_validation.values\n",
    "\n",
    "# get y\n",
    "y_train = df_tracks_train['track']['genre_top']\n",
    "y_test = df_tracks_test['track']['genre_top']\n",
    "y_validation = df_tracks_validation['track']['genre_top']"
   ],
   "outputs": []
  },
  {
   "cell_type": "code",
   "execution_count": 20,
   "id": "7b1e09f8",
   "metadata": {},
   "source": [
    "# evaluate shape\n",
    "get_shape(X_train[0:1])"
   ],
   "outputs": []
  },
  {
   "cell_type": "code",
   "execution_count": 37,
   "id": "86ccc636",
   "metadata": {},
   "source": [
    "# for first test we want to have 32 bits represantations\n",
    "R = generate_random_matrix(8, 518)"
   ],
   "outputs": []
  },
  {
   "cell_type": "code",
   "execution_count": 38,
   "id": "16e4ce9b",
   "metadata": {},
   "source": [
    "# dot product (this shows us, on which side of the hyperplane it is)\n",
    "X_train_zero_dot = np.dot(X_train, R.T)"
   ],
   "outputs": []
  },
  {
   "cell_type": "code",
   "execution_count": 39,
   "id": "dd1e927e",
   "metadata": {},
   "source": [
    "# now we basically say everything greateer 0 is true and therefore a one\n",
    "# so we get a represantation in binary how the track data behaves with respect to R\n",
    "X_train_zero_dot = X_train_zero_dot > 0\n",
    "X_train_zero_dot = X_train_zero_dot.astype(int)\n",
    "get_shape(X_train_zero_dot)\n",
    "len(X_train_zero_dot)"
   ],
   "outputs": []
  },
  {
   "cell_type": "code",
   "execution_count": 40,
   "id": "9b6b1ad3",
   "metadata": {},
   "source": [
    "# from the youtube video\n",
    "\n",
    "buckets = {}\n",
    "\n",
    "for i in range(len(X_train_zero_dot)):\n",
    "    hash_str = ''.join(X_train_zero_dot[i].astype(str))\n",
    "    if hash_str not in buckets.keys():\n",
    "        buckets[hash_str] = []\n",
    "    buckets[hash_str].append(i)\n",
    "\n",
    "print(buckets)"
   ],
   "outputs": []
  },
  {
   "cell_type": "code",
   "execution_count": 16,
   "id": "ca420dd4",
   "metadata": {},
   "source": [
    "# transform y to numerical values\n",
    "from sklearn.preprocessing import LabelEncoder\n",
    "labelencoder = LabelEncoder()\n",
    "y_train = labelencoder.fit_transform(y_train)\n",
    "y_test = labelencoder.fit_transform(y_test)\n",
    "y_validation = labelencoder.fit_transform(y_validation)\n",
    "\n",
    "# transform x to numerical values\n",
    "from sklearn.preprocessing import StandardScaler\n",
    "scaler = StandardScaler()\n",
    "X_train = scaler.fit_transform(X_train)\n",
    "X_test = scaler.fit_transform(X_test)\n",
    "X_validation = scaler.fit_transform(X_validation)\n",
    "\n",
    "print(X_train[0])\n",
    "\n",
    "# create min hashing model without using any libaries\n",
    "\n",
    "# create a hash function\n",
    "def hash_function(x, a, b, c, prime):\n",
    "    return (a * x + b) % prime % c\n",
    "\n",
    "# create a function to create a signature matrix\n",
    "\n",
    "def create_signature_matrix(X, num_hashes):\n",
    "    # create random matrix with the same size as the input matrix\n",
    "    random_matrix = generate_random_matrix(X.shape[1], num_hashes)\n",
    "\n",
    "    # create a prime number\n",
    "    prime = 7841\t\n",
    "    # create a list to store the signature matrix\n",
    "    signature_matrix = []\n",
    "    # create a list to store the hash functions\n",
    "    hash_functions = []\n",
    "    # create n hash functions\n",
    "    for i in range(num_hashes):\n",
    "        a = np.random.randint(1, prime)\n",
    "        b = np.random.randint(0, prime)\n",
    "        hash_functions.append((a, b))\n",
    "    \n",
    "\n",
    "\n",
    "\n",
    "# test signature matrix function\n",
    "signature_matrix = create_signature_matrix(X_train, 4)\n",
    "print(signature_matrix.shape)"
   ],
   "outputs": []
  }
 ],
 "metadata": {
  "kernelspec": {
   "display_name": "Python 3 (ipykernel)",
   "language": "python",
   "name": "python3"
  },
  "language_info": {
   "codemirror_mode": {
    "name": "ipython",
    "version": 3
   },
   "file_extension": ".py",
   "mimetype": "text/x-python",
   "name": "python",
   "nbconvert_exporter": "python",
   "pygments_lexer": "ipython3",
   "version": "3.11.5"
  }
 },
 "nbformat": 4,
 "nbformat_minor": 5
}
