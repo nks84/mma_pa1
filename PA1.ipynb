{
 "cells": [
  {
   "cell_type": "code",
   "execution_count": null,
   "id": "baa87f7c",
   "metadata": {},
   "outputs": [],
   "source": [
    "# Imports\n",
    "import pandas\n",
    "import numpy as np"
   ]
  },
  {
   "cell_type": "code",
   "execution_count": null,
   "id": "77f5d351",
   "metadata": {},
   "outputs": [],
   "source": [
    "# Helper for getting shapes of arrays\n",
    "def get_shape(array):\n",
    "    shape = array.shape\n",
    "    rows, columns = shape\n",
    "    print(f\"Number of rows: {rows}, Number of columns: {columns}\")\n",
    "    \n",
    "#For the random projection matrix R we use construction method introduced by Achlioptas\n",
    "def generate_random_matrix(m, n):\n",
    "    rij = np.random.choice([-1, 0, 1], size=(m, n), p=[1/6, 2/3, 1/6])\n",
    "    return np.sqrt(3) * rij\n",
    "\n"
   ]
  },
  {
   "cell_type": "code",
   "execution_count": null,
   "id": "443833e0",
   "metadata": {},
   "outputs": [],
   "source": [
    "# Getting the data if not already loaded\n",
    "df_tracks = pandas.read_csv('tracks.csv',index_col=0, header=[0, 1])\n",
    "df_tracks = df_tracks[df_tracks['set']['subset'] == 'medium']\n",
    "df_feautures = pandas.read_csv('features.csv',index_col=0, header=[0, 1, 2])\n"
   ]
  },
  {
   "cell_type": "code",
   "execution_count": null,
   "id": "f196a48e",
   "metadata": {},
   "outputs": [],
   "source": [
    "# Building train, test, validation sets\n",
    "# filter data only for these genres\n",
    "# Hip-Hop, Pop, Folk, Rock, Experimental,\n",
    "# International, Electronic, and Instrumental.\n",
    "# tut nix eigentlich\n",
    "df_tracks = df_tracks[df_tracks['track']['genre_top'].isin(['Hip-Hop', 'Pop', 'Folk', 'Rock', 'Experimental', 'International', 'Electronic', 'Instrumental'])]\n",
    "\n",
    "\n",
    "# split track dataframe into training and test data based on column with index 30\n",
    "df_tracks_train = df_tracks[df_tracks.iloc[:, 30] == 'training']\n",
    "df_tracks_test = df_tracks[df_tracks.iloc[:, 30] == 'test']\n",
    "df_tracks_validation = df_tracks[df_tracks.iloc[:, 30] == 'validation']\n",
    "\n",
    "#filter features data accordingly to the track data\n",
    "df_features_train = df_feautures[df_feautures.index.isin(df_tracks_train.index)]\n",
    "df_features_test = df_feautures[df_feautures.index.isin(df_tracks_test.index)]\n",
    "df_features_validation = df_feautures[df_feautures.index.isin(df_tracks_validation.index)]\n",
    "\n",
    "# get X\n",
    "X_train = df_features_train.values\n",
    "X_test = df_features_test.values\n",
    "X_validation = df_features_validation.values\n",
    "\n",
    "# get y\n",
    "y_train = df_tracks_train['track']['genre_top']\n",
    "y_test = df_tracks_test['track']['genre_top']\n",
    "y_validation = df_tracks_validation['track']['genre_top']"
   ]
  },
  {
   "cell_type": "code",
   "execution_count": null,
   "id": "7b1e09f8",
   "metadata": {},
   "outputs": [],
   "source": [
    "# evaluate shape\n",
    "get_shape(X_train[0:1])"
   ]
  },
  {
   "cell_type": "code",
   "execution_count": null,
   "id": "1cf29014",
   "metadata": {},
   "outputs": [],
   "source": []
  },
  {
   "cell_type": "code",
   "execution_count": null,
   "id": "86ccc636",
   "metadata": {},
   "outputs": [],
   "source": [
    "# for first test we want to have 32 bits represantations\n",
    "R = generate_random_matrix(32, 518)"
   ]
  },
  {
   "cell_type": "code",
   "execution_count": null,
   "id": "16e4ce9b",
   "metadata": {},
   "outputs": [],
   "source": [
    "# dot product (this shows us, on which side of the hyperplane it is)\n",
    "X_train_zero_dot = np.dot(X_train, R.T)"
   ]
  },
  {
   "cell_type": "code",
   "execution_count": null,
   "id": "dd1e927e",
   "metadata": {},
   "outputs": [],
   "source": [
    "# now we basically say everything greateer 0 is true and therefore a one\n",
    "# so we get a represantation in binary how the track data behaves with respect to R\n",
    "X_train_zero_dot = X_train_zero_dot > 0\n",
    "X_train_zero_dot = X_train_zero_dot.astype(int)\n",
    "get_shape(X_train_zero_dot)\n",
    "len(X_train_zero_dot)\n"
   ]
  },
  {
   "cell_type": "code",
   "execution_count": null,
   "id": "9b6b1ad3",
   "metadata": {},
   "outputs": [],
   "source": [
    "# from the youtube video\n",
    "\n",
    "buckets = {}\n",
    "\n",
    "for i in range(len(X_train_zero_dot)):\n",
    "    hash_str = ''.join(X_train_zero_dot[i].astype(str))\n",
    "    if hash_str not in buckets.keys():\n",
    "        buckets[hash_str] = []\n",
    "    buckets[hash_str].append(i)\n",
    "\n",
    "# print each bucket into own line for better readability\n",
    "for key, value in buckets.items():\n",
    "    print(key, value)"
   ]
  },
  {
   "cell_type": "code",
   "execution_count": null,
   "id": "ca420dd4",
   "metadata": {},
   "outputs": [],
   "source": [
    "# testing if the results are kind of valid \n",
    "\n",
    "# print the corresponding y labels for each entry\n",
    "\n",
    "# testing if the results are kind of valid \n",
    "\n",
    "# count the genre for each key\n",
    "genre_counts = {}\n",
    "for key, value in buckets.items():\n",
    "    genre_counts[key] = {}\n",
    "    for i in range(len(value)):\n",
    "        genre = y_train.iloc[value[i]]\n",
    "        if genre not in genre_counts[key]:\n",
    "            genre_counts[key][genre] = 1\n",
    "        else:\n",
    "            genre_counts[key][genre] += 1\n",
    "\n",
    "# sort each genre count by value\n",
    "for key, value in genre_counts.items():\n",
    "    genre_counts[key] = {k: v for k, v in sorted(value.items(), key=lambda item: item[1], reverse=True)}\n",
    "\n",
    "# print the genre counts for each key\n",
    "for key, value in genre_counts.items():\n",
    "    print(f\"Key: {key}\")\n",
    "    for genre, count in value.items():\n",
    "        print(f\"Genre: {genre}, Count: {count}\")\n",
    "\n",
    "# count in how many buckets a genre has a 90% majority\n",
    "majority_percentage = 0.75\n",
    "genre_majority = {}\n",
    "for key, value in genre_counts.items():\n",
    "    for genre, count in value.items():\n",
    "        if count/len(buckets[key]) > majority_percentage:\n",
    "            if genre not in genre_majority:\n",
    "                genre_majority[genre] = 1\n",
    "            else:\n",
    "                genre_majority[genre] += 1\n",
    "\n",
    "# print the total count of majority genres and the total amount of buckets\n",
    "accuracy = sum(genre_majority.values())/len(buckets)\n",
    "print(f\"Accuracy: {accuracy}\")\n",
    "\n",
    "\n",
    "\n",
    "\n"
   ]
  },
  {
   "cell_type": "code",
   "execution_count": null,
   "id": "4188ddb6",
   "metadata": {},
   "outputs": [],
   "source": [
    "# assign the majority genre to each bucket\n",
    "bucket_genres = {}\n",
    "for key, value in genre_counts.items():\n",
    "    bucket_genres[key] = list(value.keys())[0]\n",
    "\n",
    "# use test set to evaluate the accuracy of the majority genre\n",
    "X_test_zero_dot = np.dot(X_test, R.T)\n",
    "X_test_zero_dot = X_test_zero_dot > 0\n",
    "X_test_zero_dot = X_test_zero_dot.astype(int)\n",
    "\n",
    "\n",
    "# get the majority genre for each test set entry based on the bucket_genres\n",
    "majority_genres = []\n",
    "for i in range(len(X_test_zero_dot)):\n",
    "# find the matching bucket\n",
    "    bucket_genre = bucket_genres.get(''.join(X_test_zero_dot[i].astype(str)))\n",
    "    majority_genres.append(bucket_genre)\n",
    "\n",
    "\n",
    "# compare the majority genre with the actual genre\n",
    "correct = 0\n",
    "for i in range(len(majority_genres)):\n",
    "    if majority_genres[i] == y_test.iloc[i]:\n",
    "        correct += 1\n",
    "\n",
    "accuracy = correct/len(majority_genres)\n",
    "print(f\"Accuracy Test set: {accuracy}\")"
   ]
  },
  {
   "cell_type": "code",
   "execution_count": null,
   "id": "9589ac36",
   "metadata": {},
   "outputs": [],
   "source": [
    "# use combined test and validation set to evaluate the accuracy of the majority genre\n",
    "X_validation_zero_dot = np.dot(X_validation, R.T)\n",
    "X_validation_zero_dot = X_validation_zero_dot > 0\n",
    "X_validation_zero_dot = X_validation_zero_dot.astype(int)\n",
    "\n",
    "# get the majority genre for each test set entry based on the bucket_genres\n",
    "majority_genres = []\n",
    "for i in range(len(X_validation_zero_dot)):\n",
    "    # find the matching bucket\n",
    "    bucket_genre = bucket_genres.get(''.join(X_validation_zero_dot[i].astype(str)))\n",
    "    majority_genres.append(bucket_genre)\n",
    "\n",
    "for i in range(len(X_test_zero_dot)):\n",
    "# find the matching bucket\n",
    "    bucket_genre = bucket_genres.get(''.join(X_test_zero_dot[i].astype(str)))\n",
    "    majority_genres.append(bucket_genre)\n",
    "\n",
    "# compare the majority genre with the actual genre\n",
    "correct = 0\n",
    "for i in range(len(X_validation_zero_dot)):\n",
    "    if majority_genres[i] == y_validation.iloc[i]:\n",
    "        correct += 1\n",
    "\n",
    "for i in range(len(X_test_zero_dot)):\n",
    "    if majority_genres[i] == y_test.iloc[i]:\n",
    "        correct += 1\n",
    "\n",
    "accuracy = correct/len(majority_genres)\n",
    "print(f\"Accuracy Validation+Test set: {accuracy}\")"
   ]
  }
 ],
 "metadata": {
  "kernelspec": {
   "display_name": "Python 3 (ipykernel)",
   "language": "python",
   "name": "python3"
  },
  "language_info": {
   "codemirror_mode": {
    "name": "ipython",
    "version": 3
   },
   "file_extension": ".py",
   "mimetype": "text/x-python",
   "name": "python",
   "nbconvert_exporter": "python",
   "pygments_lexer": "ipython3",
   "version": "3.11.5"
  }
 },
 "nbformat": 4,
 "nbformat_minor": 5
}
